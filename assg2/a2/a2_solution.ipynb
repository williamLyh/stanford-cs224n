{
 "cells": [
  {
   "cell_type": "markdown",
   "metadata": {},
   "source": [
    "### Assignment 2\n",
    "#### 1. a) \n",
    "- Assume $\\hat{y}_o$ and $\\hat{y}_w$ are both vectors. $y_w$ is an one-hot vector and only 1 entry is 1.\n",
    "$$-\\sum_{w\\in Vocab} \\log \\hat{y}_w =  -\\sum_{w \\in Outside} \\log \\hat{y}_w = -\\log \\hat{y}_o $$\n",
    "\n",
    "- Therefore, the softmax loss is the same as the entropy loss."
   ]
  },
  {
   "cell_type": "markdown",
   "metadata": {},
   "source": [
    "#### 1. b)\n",
    "\n",
    "\n",
    "\n",
    "\n"
   ]
  },
  {
   "cell_type": "code",
   "execution_count": null,
   "metadata": {},
   "outputs": [],
   "source": []
  }
 ],
 "metadata": {
  "kernelspec": {
   "display_name": "Python 3",
   "language": "python",
   "name": "python3"
  },
  "language_info": {
   "codemirror_mode": {
    "name": "ipython",
    "version": 2
   },
   "file_extension": ".py",
   "mimetype": "text/x-python",
   "name": "python",
   "nbconvert_exporter": "python",
   "pygments_lexer": "ipython2",
   "version": "2.7.15"
  }
 },
 "nbformat": 4,
 "nbformat_minor": 2
}
